{
 "cells": [
  {
   "cell_type": "code",
   "execution_count": null,
   "id": "ac35aa43",
   "metadata": {},
   "outputs": [],
   "source": [
    "import pandas as pd\n",
    "from sklearn.model_selection import train_test_split\n",
    "\n",
    "SEED = 42 \n",
    "\n",
    "df = pd.read_csv(\"./data/data_all.csv\",index_col=\"id\")\n",
    "\n",
    "columns_train = ['type','age', 'gender','size','health', *[c for c in df.columns if c.startswith(\"breed_\")], *[c for c in df.columns if c.startswith(\"color_\")], 'target','target_log']\n",
    "\n",
    "df = df[['href', 'img']+ columns_train]\n",
    "\n",
    "train_df, valid_test_df = train_test_split(\n",
    "    df,\n",
    "    test_size=0.2,\n",
    "    random_state=SEED,\n",
    ")\n",
    "\n",
    "valid_df, test_df = train_test_split(\n",
    "    valid_test_df,\n",
    "    test_size=0.5,\n",
    "    random_state=SEED,\n",
    ")\n",
    "\n",
    "train_df.to_csv(\"./data/train.csv\")\n",
    "valid_df.to_csv(\"./data/val.csv\")\n",
    "test_df.to_csv(\"./data/test.csv\",)"
   ]
  }
 ],
 "metadata": {
  "kernelspec": {
   "display_name": "Python 3",
   "language": "python",
   "name": "python3"
  },
  "language_info": {
   "codemirror_mode": {
    "name": "ipython",
    "version": 3
   },
   "file_extension": ".py",
   "mimetype": "text/x-python",
   "name": "python",
   "nbconvert_exporter": "python",
   "pygments_lexer": "ipython3",
   "version": "3.9.6"
  }
 },
 "nbformat": 4,
 "nbformat_minor": 5
}
