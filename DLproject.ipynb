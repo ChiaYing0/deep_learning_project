{
  "nbformat": 4,
  "nbformat_minor": 0,
  "metadata": {
    "colab": {
      "provenance": []
    },
    "kernelspec": {
      "name": "python3",
      "display_name": "Python 3"
    },
    "language_info": {
      "name": "python"
    }
  },
  "cells": [
    {
      "cell_type": "markdown",
      "source": [
        "## run main"
      ],
      "metadata": {
        "id": "6SJspLtM4yZa"
      }
    },
    {
      "cell_type": "code",
      "source": [
        "# !mkdir ~/.ssh\n",
        "# !ssh-keyscan -t rsa github.com >> ~/.ssh/known_hosts"
      ],
      "metadata": {
        "id": "CoghNuzA5Bum"
      },
      "execution_count": null,
      "outputs": []
    },
    {
      "cell_type": "code",
      "execution_count": null,
      "metadata": {
        "id": "Sv6Nyymc3_LA",
        "colab": {
          "base_uri": "https://localhost:8080/"
        },
        "outputId": "ca41bd75-8f60-4942-e08f-db7da7643dff"
      },
      "outputs": [
        {
          "output_type": "stream",
          "name": "stdout",
          "text": [
            "Cloning into 'deep_learning_project'...\n",
            "remote: Enumerating objects: 15, done.\u001b[K\n",
            "remote: Counting objects: 100% (15/15), done.\u001b[K\n",
            "remote: Compressing objects: 100% (11/11), done.\u001b[K\n",
            "remote: Total 15 (delta 2), reused 11 (delta 1), pack-reused 0 (from 0)\u001b[K\n",
            "Receiving objects: 100% (15/15), 5.20 KiB | 5.20 MiB/s, done.\n",
            "Resolving deltas: 100% (2/2), done.\n",
            "env: repo_root=deep_learning_project\n",
            "repo_root=deep_learning_project\n"
          ]
        }
      ],
      "source": [
        "!git clone https://github.com/ChiaYing0/deep_learning_project.git\n",
        "%env repo_root=deep_learning_project\n",
        "!echo repo_root=$repo_root"
      ]
    },
    {
      "cell_type": "code",
      "source": [
        "!python $repo_root/main.py --config $repo_root/config.yaml"
      ],
      "metadata": {
        "colab": {
          "base_uri": "https://localhost:8080/"
        },
        "id": "pA27BtfA_Jcx",
        "outputId": "542897bd-44fa-4428-c379-ec9ba7ebdb15"
      },
      "execution_count": null,
      "outputs": [
        {
          "output_type": "stream",
          "name": "stdout",
          "text": [
            "do one batch\n"
          ]
        }
      ]
    },
    {
      "cell_type": "code",
      "source": [],
      "metadata": {
        "id": "kaaJZh0kAKDl"
      },
      "execution_count": null,
      "outputs": []
    },
    {
      "cell_type": "code",
      "source": [],
      "metadata": {
        "id": "7ZRa5CjqKXp7"
      },
      "execution_count": null,
      "outputs": []
    }
  ]
}